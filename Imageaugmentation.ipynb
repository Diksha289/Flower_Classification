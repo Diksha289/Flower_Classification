{
  "nbformat": 4,
  "nbformat_minor": 0,
  "metadata": {
    "colab": {
      "name": "Imageaugmentation.ipynb",
      "provenance": [],
      "collapsed_sections": []
    },
    "kernelspec": {
      "name": "python3",
      "display_name": "Python 3"
    },
    "language_info": {
      "name": "python"
    }
  },
  "cells": [
    {
      "cell_type": "code",
      "metadata": {
        "id": "XuPNWJJtBgyW"
      },
      "source": [
        "from google.colab import drive\n",
        "drive.mount('/content/drive')"
      ],
      "execution_count": null,
      "outputs": []
    },
    {
      "cell_type": "code",
      "metadata": {
        "id": "hLjHtCbQBkem"
      },
      "source": [
        "from glob import glob\n",
        "from PIL import Image\n",
        "from numpy import asarray\n",
        "import numpy as np"
      ],
      "execution_count": null,
      "outputs": []
    },
    {
      "cell_type": "code",
      "metadata": {
        "id": "skdUB_PvBp-2"
      },
      "source": [
        "frompath='/content/drive/MyDrive/Flower Identification - ML Group E/Team Q/Hibiscus Images '\n",
        "topath='/content/drive/MyDrive/Flower Identification - ML Group E/FLOWERS'\n",
        "folder='Hibiscus'\n",
        "topath=topath+'/'+folder+'/'"
      ],
      "execution_count": null,
      "outputs": []
    },
    {
      "cell_type": "code",
      "metadata": {
        "id": "03AuKx4xBvDO"
      },
      "source": [
        "images=glob(frompath+'/*.jpg')\n",
        "images.extend(glob(frompath+'/*.jpeg'))\n",
        "c=0\n",
        "for path in images:\n",
        "  img=Image.open(path)\n",
        "  img=img.resize((224,224))\n",
        "  img.save(topath+str(c)+'.jpg')\n",
        "  c+=1\n",
        "  mirimg=img.transpose(Image.FLIP_LEFT_RIGHT)\n",
        "  mirimg.save(topath+str(c)+'.jpg')\n",
        "  c+=1\n",
        "  rotimg=img.rotate(90,Image.NEAREST, expand = 1)\n",
        "  rotimg.save(topath+str(c)+'.jpg')\n",
        "  c+=1\n",
        "  mirrotimg=rotimg.transpose(Image.FLIP_LEFT_RIGHT)\n",
        "  mirrotimg.save(topath+str(c)+'.jpg')\n",
        "  c+=1"
      ],
      "execution_count": null,
      "outputs": []
    }
  ]
}